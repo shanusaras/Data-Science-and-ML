{
 "cells": [
  {
   "cell_type": "markdown",
   "id": "4d41d1d4",
   "metadata": {},
   "source": [
    "## Problem statement:"
   ]
  },
  {
   "cell_type": "raw",
   "id": "6357836d",
   "metadata": {},
   "source": [
    "To find whether an employee will leave the company or not based on the given features."
   ]
  },
  {
   "cell_type": "markdown",
   "id": "80f8271d",
   "metadata": {},
   "source": [
    "## Importing libraries: "
   ]
  },
  {
   "cell_type": "code",
   "execution_count": 1,
   "id": "31caeb16",
   "metadata": {},
   "outputs": [],
   "source": [
    "import numpy as np\n",
    "import pandas as pd\n",
    "import matplotlib.pyplot as plt\n",
    "import seaborn as sns\n",
    "import warnings\n",
    "warnings.filterwarnings('ignore')"
   ]
  },
  {
   "cell_type": "markdown",
   "id": "30a3a299",
   "metadata": {},
   "source": [
    "## Importing dataset: "
   ]
  },
  {
   "cell_type": "code",
   "execution_count": 2,
   "id": "7480a060",
   "metadata": {},
   "outputs": [
    {
     "data": {
      "text/html": [
       "<div>\n",
       "<style scoped>\n",
       "    .dataframe tbody tr th:only-of-type {\n",
       "        vertical-align: middle;\n",
       "    }\n",
       "\n",
       "    .dataframe tbody tr th {\n",
       "        vertical-align: top;\n",
       "    }\n",
       "\n",
       "    .dataframe thead th {\n",
       "        text-align: right;\n",
       "    }\n",
       "</style>\n",
       "<table border=\"1\" class=\"dataframe\">\n",
       "  <thead>\n",
       "    <tr style=\"text-align: right;\">\n",
       "      <th></th>\n",
       "      <th>Age</th>\n",
       "      <th>Attrition</th>\n",
       "      <th>BusinessTravel</th>\n",
       "      <th>DailyRate</th>\n",
       "      <th>Department</th>\n",
       "      <th>DistanceFromHome</th>\n",
       "      <th>Education</th>\n",
       "      <th>EducationField</th>\n",
       "      <th>EmployeeCount</th>\n",
       "      <th>EmployeeNumber</th>\n",
       "      <th>...</th>\n",
       "      <th>RelationshipSatisfaction</th>\n",
       "      <th>StandardHours</th>\n",
       "      <th>StockOptionLevel</th>\n",
       "      <th>TotalWorkingYears</th>\n",
       "      <th>TrainingTimesLastYear</th>\n",
       "      <th>WorkLifeBalance</th>\n",
       "      <th>YearsAtCompany</th>\n",
       "      <th>YearsInCurrentRole</th>\n",
       "      <th>YearsSinceLastPromotion</th>\n",
       "      <th>YearsWithCurrManager</th>\n",
       "    </tr>\n",
       "  </thead>\n",
       "  <tbody>\n",
       "    <tr>\n",
       "      <th>0</th>\n",
       "      <td>41</td>\n",
       "      <td>Yes</td>\n",
       "      <td>Travel_Rarely</td>\n",
       "      <td>1102</td>\n",
       "      <td>Sales</td>\n",
       "      <td>1</td>\n",
       "      <td>2</td>\n",
       "      <td>Life Sciences</td>\n",
       "      <td>1</td>\n",
       "      <td>1</td>\n",
       "      <td>...</td>\n",
       "      <td>1</td>\n",
       "      <td>80</td>\n",
       "      <td>0</td>\n",
       "      <td>8</td>\n",
       "      <td>0</td>\n",
       "      <td>1</td>\n",
       "      <td>6</td>\n",
       "      <td>4</td>\n",
       "      <td>0</td>\n",
       "      <td>5</td>\n",
       "    </tr>\n",
       "    <tr>\n",
       "      <th>1</th>\n",
       "      <td>49</td>\n",
       "      <td>No</td>\n",
       "      <td>Travel_Frequently</td>\n",
       "      <td>279</td>\n",
       "      <td>Research &amp; Development</td>\n",
       "      <td>8</td>\n",
       "      <td>1</td>\n",
       "      <td>Life Sciences</td>\n",
       "      <td>1</td>\n",
       "      <td>2</td>\n",
       "      <td>...</td>\n",
       "      <td>4</td>\n",
       "      <td>80</td>\n",
       "      <td>1</td>\n",
       "      <td>10</td>\n",
       "      <td>3</td>\n",
       "      <td>3</td>\n",
       "      <td>10</td>\n",
       "      <td>7</td>\n",
       "      <td>1</td>\n",
       "      <td>7</td>\n",
       "    </tr>\n",
       "    <tr>\n",
       "      <th>2</th>\n",
       "      <td>37</td>\n",
       "      <td>Yes</td>\n",
       "      <td>Travel_Rarely</td>\n",
       "      <td>1373</td>\n",
       "      <td>Research &amp; Development</td>\n",
       "      <td>2</td>\n",
       "      <td>2</td>\n",
       "      <td>Other</td>\n",
       "      <td>1</td>\n",
       "      <td>4</td>\n",
       "      <td>...</td>\n",
       "      <td>2</td>\n",
       "      <td>80</td>\n",
       "      <td>0</td>\n",
       "      <td>7</td>\n",
       "      <td>3</td>\n",
       "      <td>3</td>\n",
       "      <td>0</td>\n",
       "      <td>0</td>\n",
       "      <td>0</td>\n",
       "      <td>0</td>\n",
       "    </tr>\n",
       "    <tr>\n",
       "      <th>3</th>\n",
       "      <td>33</td>\n",
       "      <td>No</td>\n",
       "      <td>Travel_Frequently</td>\n",
       "      <td>1392</td>\n",
       "      <td>Research &amp; Development</td>\n",
       "      <td>3</td>\n",
       "      <td>4</td>\n",
       "      <td>Life Sciences</td>\n",
       "      <td>1</td>\n",
       "      <td>5</td>\n",
       "      <td>...</td>\n",
       "      <td>3</td>\n",
       "      <td>80</td>\n",
       "      <td>0</td>\n",
       "      <td>8</td>\n",
       "      <td>3</td>\n",
       "      <td>3</td>\n",
       "      <td>8</td>\n",
       "      <td>7</td>\n",
       "      <td>3</td>\n",
       "      <td>0</td>\n",
       "    </tr>\n",
       "    <tr>\n",
       "      <th>4</th>\n",
       "      <td>27</td>\n",
       "      <td>No</td>\n",
       "      <td>Travel_Rarely</td>\n",
       "      <td>591</td>\n",
       "      <td>Research &amp; Development</td>\n",
       "      <td>2</td>\n",
       "      <td>1</td>\n",
       "      <td>Medical</td>\n",
       "      <td>1</td>\n",
       "      <td>7</td>\n",
       "      <td>...</td>\n",
       "      <td>4</td>\n",
       "      <td>80</td>\n",
       "      <td>1</td>\n",
       "      <td>6</td>\n",
       "      <td>3</td>\n",
       "      <td>3</td>\n",
       "      <td>2</td>\n",
       "      <td>2</td>\n",
       "      <td>2</td>\n",
       "      <td>2</td>\n",
       "    </tr>\n",
       "    <tr>\n",
       "      <th>...</th>\n",
       "      <td>...</td>\n",
       "      <td>...</td>\n",
       "      <td>...</td>\n",
       "      <td>...</td>\n",
       "      <td>...</td>\n",
       "      <td>...</td>\n",
       "      <td>...</td>\n",
       "      <td>...</td>\n",
       "      <td>...</td>\n",
       "      <td>...</td>\n",
       "      <td>...</td>\n",
       "      <td>...</td>\n",
       "      <td>...</td>\n",
       "      <td>...</td>\n",
       "      <td>...</td>\n",
       "      <td>...</td>\n",
       "      <td>...</td>\n",
       "      <td>...</td>\n",
       "      <td>...</td>\n",
       "      <td>...</td>\n",
       "      <td>...</td>\n",
       "    </tr>\n",
       "    <tr>\n",
       "      <th>1465</th>\n",
       "      <td>36</td>\n",
       "      <td>No</td>\n",
       "      <td>Travel_Frequently</td>\n",
       "      <td>884</td>\n",
       "      <td>Research &amp; Development</td>\n",
       "      <td>23</td>\n",
       "      <td>2</td>\n",
       "      <td>Medical</td>\n",
       "      <td>1</td>\n",
       "      <td>2061</td>\n",
       "      <td>...</td>\n",
       "      <td>3</td>\n",
       "      <td>80</td>\n",
       "      <td>1</td>\n",
       "      <td>17</td>\n",
       "      <td>3</td>\n",
       "      <td>3</td>\n",
       "      <td>5</td>\n",
       "      <td>2</td>\n",
       "      <td>0</td>\n",
       "      <td>3</td>\n",
       "    </tr>\n",
       "    <tr>\n",
       "      <th>1466</th>\n",
       "      <td>39</td>\n",
       "      <td>No</td>\n",
       "      <td>Travel_Rarely</td>\n",
       "      <td>613</td>\n",
       "      <td>Research &amp; Development</td>\n",
       "      <td>6</td>\n",
       "      <td>1</td>\n",
       "      <td>Medical</td>\n",
       "      <td>1</td>\n",
       "      <td>2062</td>\n",
       "      <td>...</td>\n",
       "      <td>1</td>\n",
       "      <td>80</td>\n",
       "      <td>1</td>\n",
       "      <td>9</td>\n",
       "      <td>5</td>\n",
       "      <td>3</td>\n",
       "      <td>7</td>\n",
       "      <td>7</td>\n",
       "      <td>1</td>\n",
       "      <td>7</td>\n",
       "    </tr>\n",
       "    <tr>\n",
       "      <th>1467</th>\n",
       "      <td>27</td>\n",
       "      <td>No</td>\n",
       "      <td>Travel_Rarely</td>\n",
       "      <td>155</td>\n",
       "      <td>Research &amp; Development</td>\n",
       "      <td>4</td>\n",
       "      <td>3</td>\n",
       "      <td>Life Sciences</td>\n",
       "      <td>1</td>\n",
       "      <td>2064</td>\n",
       "      <td>...</td>\n",
       "      <td>2</td>\n",
       "      <td>80</td>\n",
       "      <td>1</td>\n",
       "      <td>6</td>\n",
       "      <td>0</td>\n",
       "      <td>3</td>\n",
       "      <td>6</td>\n",
       "      <td>2</td>\n",
       "      <td>0</td>\n",
       "      <td>3</td>\n",
       "    </tr>\n",
       "    <tr>\n",
       "      <th>1468</th>\n",
       "      <td>49</td>\n",
       "      <td>No</td>\n",
       "      <td>Travel_Frequently</td>\n",
       "      <td>1023</td>\n",
       "      <td>Sales</td>\n",
       "      <td>2</td>\n",
       "      <td>3</td>\n",
       "      <td>Medical</td>\n",
       "      <td>1</td>\n",
       "      <td>2065</td>\n",
       "      <td>...</td>\n",
       "      <td>4</td>\n",
       "      <td>80</td>\n",
       "      <td>0</td>\n",
       "      <td>17</td>\n",
       "      <td>3</td>\n",
       "      <td>2</td>\n",
       "      <td>9</td>\n",
       "      <td>6</td>\n",
       "      <td>0</td>\n",
       "      <td>8</td>\n",
       "    </tr>\n",
       "    <tr>\n",
       "      <th>1469</th>\n",
       "      <td>34</td>\n",
       "      <td>No</td>\n",
       "      <td>Travel_Rarely</td>\n",
       "      <td>628</td>\n",
       "      <td>Research &amp; Development</td>\n",
       "      <td>8</td>\n",
       "      <td>3</td>\n",
       "      <td>Medical</td>\n",
       "      <td>1</td>\n",
       "      <td>2068</td>\n",
       "      <td>...</td>\n",
       "      <td>1</td>\n",
       "      <td>80</td>\n",
       "      <td>0</td>\n",
       "      <td>6</td>\n",
       "      <td>3</td>\n",
       "      <td>4</td>\n",
       "      <td>4</td>\n",
       "      <td>3</td>\n",
       "      <td>1</td>\n",
       "      <td>2</td>\n",
       "    </tr>\n",
       "  </tbody>\n",
       "</table>\n",
       "<p>1470 rows × 35 columns</p>\n",
       "</div>"
      ],
      "text/plain": [
       "      Age Attrition     BusinessTravel  DailyRate              Department  \\\n",
       "0      41       Yes      Travel_Rarely       1102                   Sales   \n",
       "1      49        No  Travel_Frequently        279  Research & Development   \n",
       "2      37       Yes      Travel_Rarely       1373  Research & Development   \n",
       "3      33        No  Travel_Frequently       1392  Research & Development   \n",
       "4      27        No      Travel_Rarely        591  Research & Development   \n",
       "...   ...       ...                ...        ...                     ...   \n",
       "1465   36        No  Travel_Frequently        884  Research & Development   \n",
       "1466   39        No      Travel_Rarely        613  Research & Development   \n",
       "1467   27        No      Travel_Rarely        155  Research & Development   \n",
       "1468   49        No  Travel_Frequently       1023                   Sales   \n",
       "1469   34        No      Travel_Rarely        628  Research & Development   \n",
       "\n",
       "      DistanceFromHome  Education EducationField  EmployeeCount  \\\n",
       "0                    1          2  Life Sciences              1   \n",
       "1                    8          1  Life Sciences              1   \n",
       "2                    2          2          Other              1   \n",
       "3                    3          4  Life Sciences              1   \n",
       "4                    2          1        Medical              1   \n",
       "...                ...        ...            ...            ...   \n",
       "1465                23          2        Medical              1   \n",
       "1466                 6          1        Medical              1   \n",
       "1467                 4          3  Life Sciences              1   \n",
       "1468                 2          3        Medical              1   \n",
       "1469                 8          3        Medical              1   \n",
       "\n",
       "      EmployeeNumber  ...  RelationshipSatisfaction StandardHours  \\\n",
       "0                  1  ...                         1            80   \n",
       "1                  2  ...                         4            80   \n",
       "2                  4  ...                         2            80   \n",
       "3                  5  ...                         3            80   \n",
       "4                  7  ...                         4            80   \n",
       "...              ...  ...                       ...           ...   \n",
       "1465            2061  ...                         3            80   \n",
       "1466            2062  ...                         1            80   \n",
       "1467            2064  ...                         2            80   \n",
       "1468            2065  ...                         4            80   \n",
       "1469            2068  ...                         1            80   \n",
       "\n",
       "      StockOptionLevel  TotalWorkingYears  TrainingTimesLastYear  \\\n",
       "0                    0                  8                      0   \n",
       "1                    1                 10                      3   \n",
       "2                    0                  7                      3   \n",
       "3                    0                  8                      3   \n",
       "4                    1                  6                      3   \n",
       "...                ...                ...                    ...   \n",
       "1465                 1                 17                      3   \n",
       "1466                 1                  9                      5   \n",
       "1467                 1                  6                      0   \n",
       "1468                 0                 17                      3   \n",
       "1469                 0                  6                      3   \n",
       "\n",
       "     WorkLifeBalance  YearsAtCompany YearsInCurrentRole  \\\n",
       "0                  1               6                  4   \n",
       "1                  3              10                  7   \n",
       "2                  3               0                  0   \n",
       "3                  3               8                  7   \n",
       "4                  3               2                  2   \n",
       "...              ...             ...                ...   \n",
       "1465               3               5                  2   \n",
       "1466               3               7                  7   \n",
       "1467               3               6                  2   \n",
       "1468               2               9                  6   \n",
       "1469               4               4                  3   \n",
       "\n",
       "      YearsSinceLastPromotion  YearsWithCurrManager  \n",
       "0                           0                     5  \n",
       "1                           1                     7  \n",
       "2                           0                     0  \n",
       "3                           3                     0  \n",
       "4                           2                     2  \n",
       "...                       ...                   ...  \n",
       "1465                        0                     3  \n",
       "1466                        1                     7  \n",
       "1467                        0                     3  \n",
       "1468                        0                     8  \n",
       "1469                        1                     2  \n",
       "\n",
       "[1470 rows x 35 columns]"
      ]
     },
     "execution_count": 2,
     "metadata": {},
     "output_type": "execute_result"
    }
   ],
   "source": [
    "data= pd.read_csv('HR-Employee-Attrition.csv')\n",
    "data"
   ]
  },
  {
   "cell_type": "markdown",
   "id": "671ec18d",
   "metadata": {},
   "source": [
    "## Domain analysis: "
   ]
  },
  {
   "cell_type": "markdown",
   "id": "a00e5905",
   "metadata": {},
   "source": [
    "## Basic checks: "
   ]
  },
  {
   "cell_type": "code",
   "execution_count": null,
   "id": "9ca2173b",
   "metadata": {},
   "outputs": [],
   "source": [
    "data.head()"
   ]
  },
  {
   "cell_type": "code",
   "execution_count": null,
   "id": "21eda7b9",
   "metadata": {},
   "outputs": [],
   "source": [
    "data.head(pd.set_option('display.max_columns', None)) # to display all the columns"
   ]
  },
  {
   "cell_type": "code",
   "execution_count": null,
   "id": "647e5759",
   "metadata": {},
   "outputs": [],
   "source": [
    "data.info()"
   ]
  },
  {
   "cell_type": "code",
   "execution_count": null,
   "id": "e0c216c4",
   "metadata": {},
   "outputs": [],
   "source": [
    "# no null values, both categorical and numerical columns (total 35 columns)"
   ]
  },
  {
   "cell_type": "code",
   "execution_count": null,
   "id": "e2fe00e4",
   "metadata": {},
   "outputs": [],
   "source": [
    "data.describe().T"
   ]
  },
  {
   "cell_type": "markdown",
   "id": "43fd931b",
   "metadata": {},
   "source": [
    "#### Insights:\n",
    "- std of employeecount is 0 hence constant feature\n",
    "- employee number is a unique feature hence irrelevant.\n",
    "- standard hours is a constant feature."
   ]
  },
  {
   "cell_type": "code",
   "execution_count": null,
   "id": "292db0e3",
   "metadata": {},
   "outputs": [],
   "source": [
    "data.describe(include='O')"
   ]
  },
  {
   "cell_type": "code",
   "execution_count": null,
   "id": "9f4f903c",
   "metadata": {},
   "outputs": [],
   "source": [
    "# over18 is a constant feature"
   ]
  },
  {
   "cell_type": "markdown",
   "id": "acfe2420",
   "metadata": {},
   "source": [
    "## Exploratory data analysis:"
   ]
  },
  {
   "cell_type": "markdown",
   "id": "e0b1d64c",
   "metadata": {},
   "source": [
    "### Univariate analysis: "
   ]
  },
  {
   "cell_type": "code",
   "execution_count": null,
   "id": "de3280d0",
   "metadata": {},
   "outputs": [],
   "source": [
    "# automated EDA libraries make the visualization easier \n",
    "# examples: sweetviz, autoviz (for bivariate analysis), pandas profiling etc"
   ]
  },
  {
   "cell_type": "code",
   "execution_count": null,
   "id": "37d0dfcf",
   "metadata": {},
   "outputs": [],
   "source": [
    "import sweetviz as sv\n",
    "\n",
    "report= sv.analyze(data)\n",
    "report.show_html()"
   ]
  },
  {
   "cell_type": "markdown",
   "id": "bcd38a2d",
   "metadata": {},
   "source": [
    "#### Insights: (generate many meaningful insights as much as possible )\n",
    "- Age: People between the age group of 25-45 are the majority.\n",
    "- Business travel: 70% people travel rarely, 20% people travel frequently and the rest do not travel.\n",
    "- Daily Rate: uniform distribution\n",
    "- Deprtment: Around 65% are in R&D, 30% in sales.\n",
    "- Distance from home: around 40% are nearer to the office(i.e., distance from their home is less than or equal to 10.0)\n",
    "- Education: around 60% people have educational qualification of 3 and 4.\n",
    "- Education field:  around 40% are from life sciences and 30% are from medical science. \n",
    "- Environment satisfaction: around 60% people are almost satisfied with the environmental condition of the office with the ratings of more than 3.\n",
    "- Gender: 60% male, 40% female\n",
    "- Hourly rate: uniform distribution\n",
    "- Job Involvement:around 60% have full job involvement and around 25% people have partial involvement.\n",
    "- Job satisfaction: More than 60% employees seem to be satisfied with their job.\n",
    "- Marital status: around 50% people are married, 30% single and the rest are divorced.\n",
    "- Num companies worked:40% employees has worked in less than 1 company so they are freshers,\n",
    "30% people have worked for more than five companies.\n"
   ]
  },
  {
   "cell_type": "markdown",
   "id": "ef294f47",
   "metadata": {},
   "source": [
    "### Bivariate analysis:"
   ]
  },
  {
   "cell_type": "markdown",
   "id": "5a0172f8",
   "metadata": {},
   "source": [
    "#### Categorical features w.r.t target variable\n"
   ]
  },
  {
   "cell_type": "code",
   "execution_count": null,
   "id": "fa78600b",
   "metadata": {},
   "outputs": [],
   "source": [
    "data_cat= data[['BusinessTravel','Department','EducationField','Gender','JobRole','MaritalStatus','OverTime']]"
   ]
  },
  {
   "cell_type": "code",
   "execution_count": null,
   "id": "5e5d1f0b",
   "metadata": {},
   "outputs": [],
   "source": [
    "plt.figure(figsize=(50,50), facecolor='white')\n",
    "plotnumber=1\n",
    "\n",
    "for column in data_cat:\n",
    "    if plotnumber <=8:\n",
    "        ax= plt.subplot(4,2,plotnumber)\n",
    "        sns.countplot(data= data_cat, x= column, hue= data['Attrition'])\n",
    "        plt.xlabel(column, fontsize = 40)\n",
    "        plt.ylabel('count', fontsize = 40)\n",
    "    plotnumber +=1\n",
    "plt.tight_layout()"
   ]
  },
  {
   "cell_type": "markdown",
   "id": "3830d9b7",
   "metadata": {},
   "source": [
    "#### Insights:\n",
    "- people who travel frequently are more likely to quit the job.\n",
    "- people who don't do overtime have less probability of leaving the job.\n",
    "- singles are more likely to quit the job.\n",
    "- people in sales department are more likely to quit."
   ]
  },
  {
   "cell_type": "markdown",
   "id": "9d401666",
   "metadata": {},
   "source": [
    "#### Discrete features w.r.t  target variable."
   ]
  },
  {
   "cell_type": "code",
   "execution_count": null,
   "id": "c3a9c5db",
   "metadata": {},
   "outputs": [],
   "source": [
    "data_dis = data[['Education','EnvironmentSatisfaction', 'JobInvolvement','JobLevel','JobSatisfaction','NumCompaniesWorked','PerformanceRating','RelationshipSatisfaction','StockOptionLevel','TrainingTimesLastYear','WorkLifeBalance']]"
   ]
  },
  {
   "cell_type": "code",
   "execution_count": null,
   "id": "05bded1f",
   "metadata": {},
   "outputs": [],
   "source": [
    "plt.figure(figsize=(50,50), facecolor = 'white')\n",
    "plotnumber= 1\n",
    "\n",
    "for column in data_dis:\n",
    "    if plotnumber <=12:\n",
    "        ax = plt.subplot(4,3,plotnumber)\n",
    "        sns.countplot(data= data_dis, x= column, hue= data.Attrition)\n",
    "        plt.xlabel(column, fontsize= 40)\n",
    "        plt.ylabel('count', fontsize =40)\n",
    "    plotnumber +=1\n",
    "plt.tight_layout()"
   ]
  },
  {
   "cell_type": "markdown",
   "id": "35c44800",
   "metadata": {},
   "source": [
    "#### Insights:\n",
    "- People with education level of 1 are more likely to quit.\n",
    "- Employees with the environment satisfaction of ratings 1 are more probably quitting.\n",
    "- Job invlovement, Job level, Job satisfaction with level 1 are most liekly to quit.\n",
    "- People who have worked for 5,6 or 9 companies are likely to quit than the rest.\n",
    "- Stock option level 0f less than 1 make the employees more likely to quit the job.\n",
    "- If there are no trainings given at all for the last year and 0 ratings of work life balance enable more employees to quit."
   ]
  },
  {
   "cell_type": "markdown",
   "id": "54a457f4",
   "metadata": {},
   "source": [
    "#### Continuous variables w. r. t target variable "
   ]
  },
  {
   "cell_type": "code",
   "execution_count": null,
   "id": "ae0c8226",
   "metadata": {},
   "outputs": [],
   "source": [
    "data.head(2)"
   ]
  },
  {
   "cell_type": "code",
   "execution_count": null,
   "id": "91cc55cf",
   "metadata": {},
   "outputs": [],
   "source": [
    "# age, daily rate, distance from home, hourly rate, monthly income, monthly rate, percent salary hike, \n",
    "# total working years, years at company, years in current role, years since last promotion,\n",
    "# years with curr mmanager"
   ]
  },
  {
   "cell_type": "code",
   "execution_count": null,
   "id": "65dcea9c",
   "metadata": {},
   "outputs": [],
   "source": [
    "data_c= data[['Age','DailyRate','DistanceFromHome','HourlyRate','MonthlyIncome','MonthlyRate','PercentSalaryHike','TotalWorkingYears','YearsAtCompany','YearsInCurrentRole','YearsSinceLastPromotion','YearsWithCurrManager']]"
   ]
  },
  {
   "cell_type": "code",
   "execution_count": null,
   "id": "8c4cb502",
   "metadata": {},
   "outputs": [],
   "source": [
    "plt.figure(figsize = (50, 70), facecolor = 'white')\n",
    "plotnumber = 1\n",
    "\n",
    "for column in data_c:\n",
    "    if plotnumber <= 12:\n",
    "        ax = plt.subplot(6, 2, plotnumber)\n",
    "        sns.histplot(data= data_c, x = column, hue = data['Attrition'])\n",
    "        plt.xlabel(column, fontsize = 40)\n",
    "        plt.ylabel('Attrition', fontsize = 40)\n",
    "    plotnumber +=1\n",
    "plt.tight_layout()"
   ]
  },
  {
   "cell_type": "markdown",
   "id": "1b2c5b85",
   "metadata": {},
   "source": [
    "#### Insights:\n",
    "- People around the age of 20-25 are more likely to quit the job.\n",
    "- features like daily rate, hourly rate, monthly rate are uniformly distributed hence \n",
    "not useful in deriving relationship with the output variable.\n",
    "- People with monthly income of less than 2500 are more probable to leave the job.\n",
    "- Employees with total working years of less than 2 are more likely to quit.\n",
    "- If the years at the company is around 0-2, they are more likely to quit.\n"
   ]
  },
  {
   "cell_type": "markdown",
   "id": "c2a1c7cc",
   "metadata": {},
   "source": [
    "### final conclusions:\n"
   ]
  },
  {
   "cell_type": "raw",
   "id": "888bb55c",
   "metadata": {},
   "source": [
    "Business travel: The workers who travel a lot are more likely to quit.\n",
    "\n",
    "Department: The employees in R&D are more likely to stay than the rest of the departments.\n",
    "\n",
    "Education field: The workers with HR and technical degrees are more likely to quit.\n",
    "\n",
    "Gender: The male are more likely to quit.\n",
    "\n",
    "Job role: People with job roles of Lab technician , sales representative and Human resources are more \n",
    "likely to quit.\n",
    "\n",
    "Marital Status: Singles are more likely to quit than the married and the divorced.\n",
    "\n",
    "over time: Attrition rate is almost equal."
   ]
  },
  {
   "cell_type": "markdown",
   "id": "638ec320",
   "metadata": {},
   "source": [
    "## Data preprocessing: "
   ]
  },
  {
   "cell_type": "markdown",
   "id": "3551e230",
   "metadata": {},
   "source": [
    "### Checking null values: "
   ]
  },
  {
   "cell_type": "code",
   "execution_count": null,
   "id": "1eb8d3f4",
   "metadata": {},
   "outputs": [],
   "source": [
    "data.isnull().sum()"
   ]
  },
  {
   "cell_type": "markdown",
   "id": "767d3e7d",
   "metadata": {},
   "source": [
    "### Encoding: "
   ]
  },
  {
   "cell_type": "code",
   "execution_count": null,
   "id": "f888fce6",
   "metadata": {
    "scrolled": true
   },
   "outputs": [],
   "source": [
    "# for loop to fetch out only categorical columns\n",
    "\n",
    "categorical_col =[]\n",
    "\n",
    "for column in data.columns:\n",
    "    if data[column].dtype == object and len(data[column].unique())<=50:\n",
    "        categorical_col.append(column)\n",
    "        print(f'{column} : {data[column].unique()}')\n",
    "        print('=================')"
   ]
  },
  {
   "cell_type": "code",
   "execution_count": null,
   "id": "ddbaeb17",
   "metadata": {},
   "outputs": [],
   "source": [
    "# if u know the domain knowledge, mapping becomes useful to assign values based on the importance \n",
    "# of the different categories in a column.\n",
    "\n",
    "# discussing with the client to get to know about the significance of each category in a column is \n",
    "# crucial to map the values ."
   ]
  },
  {
   "cell_type": "code",
   "execution_count": null,
   "id": "f0963dd5",
   "metadata": {},
   "outputs": [],
   "source": [
    "# 1. attrition\n",
    "\n",
    "data['Attrition']= data['Attrition'].map({'Yes': 1, 'No': 0})"
   ]
  },
  {
   "cell_type": "code",
   "execution_count": null,
   "id": "18c047a3",
   "metadata": {},
   "outputs": [],
   "source": [
    "# If there is no domain knowledge, it is better to map the values in the same order as given."
   ]
  },
  {
   "cell_type": "code",
   "execution_count": null,
   "id": "a0d02f2b",
   "metadata": {},
   "outputs": [],
   "source": [
    "# 2. BusinessTravel\n",
    "\n",
    "data['BusinessTravel'] = data['BusinessTravel'].map({'Travel_Rarely':0, 'Travel_Frequently': 1, 'Non-Travel': 2})"
   ]
  },
  {
   "cell_type": "code",
   "execution_count": null,
   "id": "b5c2fc50",
   "metadata": {},
   "outputs": [],
   "source": [
    "# 3. Department\n",
    "\n",
    "data['Department'] = data['Department'].map({'Sales':0, \"Research & Development\":1,'Human Resources':2 })"
   ]
  },
  {
   "cell_type": "code",
   "execution_count": null,
   "id": "05bdd9cf",
   "metadata": {},
   "outputs": [],
   "source": [
    "#4. EducationField \n",
    "\n",
    "data['EducationField'] = data['EducationField'].map({'Life Sciences':0, 'Other':1, 'Medical':2, 'Marketing':3, 'Technical Degree':4, 'Human Resources':5})"
   ]
  },
  {
   "cell_type": "code",
   "execution_count": null,
   "id": "62fb08e2",
   "metadata": {},
   "outputs": [],
   "source": [
    "# 5. Gender\n",
    "\n",
    "# Since gender is a nominal data with equal importance to both the categories, \n",
    "# one hot encoder can be used.\n",
    "\n",
    "data['Gender'] = pd.get_dummies(data['Gender'], drop_first = True)"
   ]
  },
  {
   "cell_type": "code",
   "execution_count": null,
   "id": "325f4fee",
   "metadata": {},
   "outputs": [],
   "source": [
    "# 6. JobRole \n",
    "\n",
    "data['JobRole'] = data['JobRole'].map({'Sales Executive':0, 'Research Scientist':1, 'Laboratory Technician':2, 'Manufacturing Director':3, 'Healthcare Representative':4, 'Manager':5, 'Sales Representative':6, 'Research Director':7,'Human Resources':8})"
   ]
  },
  {
   "cell_type": "code",
   "execution_count": null,
   "id": "7892b789",
   "metadata": {},
   "outputs": [],
   "source": [
    "data['MaritalStatus'].value_counts()"
   ]
  },
  {
   "cell_type": "code",
   "execution_count": null,
   "id": "adfb3573",
   "metadata": {},
   "outputs": [],
   "source": [
    "# can check the weightage of each category and assign the values as per the importance."
   ]
  },
  {
   "cell_type": "code",
   "execution_count": null,
   "id": "08ac752d",
   "metadata": {},
   "outputs": [],
   "source": [
    "# 7. MaritalStatus \n",
    "\n",
    "data['MaritalStatus'] = data['MaritalStatus'].map({'Single':0, 'Married':1, 'Divorced':2})"
   ]
  },
  {
   "cell_type": "code",
   "execution_count": null,
   "id": "29fc8845",
   "metadata": {},
   "outputs": [],
   "source": [
    "# 8. OverTime : ['Yes' 'No']\n",
    "\n",
    "# label encoder is used here.\n",
    "\n",
    "from sklearn.preprocessing import LabelEncoder\n",
    "label= LabelEncoder()\n",
    "\n",
    "data['OverTime'] = label.fit_transform(data['OverTime'])"
   ]
  },
  {
   "cell_type": "markdown",
   "id": "e7bbf4ac",
   "metadata": {},
   "source": [
    "### checking the duplicate records: "
   ]
  },
  {
   "cell_type": "code",
   "execution_count": null,
   "id": "49908466",
   "metadata": {},
   "outputs": [],
   "source": [
    "data.duplicated().sum()"
   ]
  },
  {
   "cell_type": "markdown",
   "id": "553ee344",
   "metadata": {},
   "source": [
    "### Scaling and outliers handling are not required in decision tree "
   ]
  },
  {
   "cell_type": "markdown",
   "id": "c29bd594",
   "metadata": {},
   "source": [
    "### Feature Selection:\n"
   ]
  },
  {
   "cell_type": "code",
   "execution_count": null,
   "id": "c4cde2d4",
   "metadata": {},
   "outputs": [],
   "source": [
    "# fetching only numerical columns for correlation\n",
    "\n",
    "data_c"
   ]
  },
  {
   "cell_type": "code",
   "execution_count": null,
   "id": "fa66a428",
   "metadata": {},
   "outputs": [],
   "source": [
    "# look for both negative correlation nd positive correlation"
   ]
  },
  {
   "cell_type": "code",
   "execution_count": null,
   "id": "1c2d1654",
   "metadata": {},
   "outputs": [],
   "source": [
    "plt.figure(figsize= (30, 30))\n",
    "sns.heatmap(data_c.corr(), annot = True, cmap = 'coolwarm', annot_kws ={'size':15})"
   ]
  },
  {
   "cell_type": "code",
   "execution_count": null,
   "id": "c85bbb20",
   "metadata": {},
   "outputs": [],
   "source": [
    "# years at company and years with curr manager\n",
    "# years at company and years in current role\n",
    "# total working years and monthly income \n",
    "\n",
    "# all the above combination of features are showing little high positive correlation but not very high\n",
    "correlation.\n",
    "# hence no features need be dropped here."
   ]
  },
  {
   "cell_type": "code",
   "execution_count": null,
   "id": "509927f4",
   "metadata": {},
   "outputs": [],
   "source": [
    "# finding the features with std = 0 and removing them\n",
    "# if std = 0, then there is not even slight variation in the distribution of data, hence all the \n",
    "# values are the same . Hence, it is a constant feature.\n",
    "\n",
    "zero_std=[]\n",
    "\n",
    "for column in data.columns:\n",
    "    if data[column].dtype == 'int64':\n",
    "        if np.std(data[column]) == 0:\n",
    "            zero_std.append(column)\n",
    "print(zero_std)"
   ]
  },
  {
   "cell_type": "code",
   "execution_count": null,
   "id": "8187ebe2",
   "metadata": {},
   "outputs": [],
   "source": [
    "# features to be removed:\n",
    "# 'EmployeeCount', 'StandardHours'- constant features\n",
    "# 'EmployeeNumber'- unique feature\n",
    "# 'Over18'- irrelevant since only one unique category"
   ]
  },
  {
   "cell_type": "code",
   "execution_count": null,
   "id": "d739bb48",
   "metadata": {},
   "outputs": [],
   "source": [
    "# dropping irrelevant columns\n",
    "\n",
    "data.drop(['EmployeeCount', 'StandardHours', 'EmployeeNumber', 'Over18'],axis =1, inplace = True)"
   ]
  },
  {
   "cell_type": "markdown",
   "id": "b8779b5d",
   "metadata": {},
   "source": [
    "### Balancing the dataset: "
   ]
  },
  {
   "cell_type": "markdown",
   "id": "2158aeef",
   "metadata": {},
   "source": [
    "#### Splitting the data:\n"
   ]
  },
  {
   "cell_type": "code",
   "execution_count": null,
   "id": "1cf85bab",
   "metadata": {},
   "outputs": [],
   "source": [
    "X= data.drop('Attrition', axis = 1)\n",
    "y = data.Attrition"
   ]
  },
  {
   "cell_type": "code",
   "execution_count": null,
   "id": "2a9a5d36",
   "metadata": {},
   "outputs": [],
   "source": [
    "y.value_counts() # target variable is imbalanced"
   ]
  },
  {
   "cell_type": "code",
   "execution_count": null,
   "id": "c0815bb3",
   "metadata": {},
   "outputs": [],
   "source": [
    "# train test split\n",
    "from sklearn.model_selection import train_test_split\n",
    "x_train, x_test, y_train, y_test= train_test_split(X, y, test_size= 0.20, random_state = 14)"
   ]
  },
  {
   "cell_type": "code",
   "execution_count": null,
   "id": "b44d027f",
   "metadata": {},
   "outputs": [],
   "source": [
    "from imblearn.over_sampling import SMOTE\n",
    "smote = SMOTE()\n",
    "x_train_sm, y_train_sm = smote.fit_resample(x_train, y_train)"
   ]
  },
  {
   "cell_type": "code",
   "execution_count": null,
   "id": "6689be94",
   "metadata": {},
   "outputs": [],
   "source": [
    "from collections import Counter\n",
    "\n",
    "print(Counter(y_train))\n",
    "print(Counter(y_train_sm))"
   ]
  },
  {
   "cell_type": "markdown",
   "id": "85da0054",
   "metadata": {},
   "source": [
    "### Model Creation: "
   ]
  },
  {
   "cell_type": "code",
   "execution_count": null,
   "id": "23b9a71e",
   "metadata": {},
   "outputs": [],
   "source": [
    "from sklearn.tree import DecisionTreeClassifier\n",
    "\n",
    "model_dt = DecisionTreeClassifier()\n",
    "\n",
    "model_dt.fit(x_train_sm, y_train_sm)"
   ]
  },
  {
   "cell_type": "code",
   "execution_count": null,
   "id": "ec7acc87",
   "metadata": {},
   "outputs": [],
   "source": [
    "# prediction\n",
    "\n",
    "y_pred_dt = model_dt.predict(x_test)"
   ]
  },
  {
   "cell_type": "code",
   "execution_count": null,
   "id": "cdcbb1a4",
   "metadata": {},
   "outputs": [],
   "source": [
    "# evaluation\n",
    "\n",
    "from sklearn.metrics import accuracy_score, confusion_matrix, classification_report\n",
    "\n",
    "accuracy_score(y_test, y_pred_dt)"
   ]
  },
  {
   "cell_type": "code",
   "execution_count": null,
   "id": "4c5df81e",
   "metadata": {},
   "outputs": [],
   "source": [
    "confusion_matrix(y_test, y_pred_dt)"
   ]
  },
  {
   "cell_type": "code",
   "execution_count": null,
   "id": "8ff93123",
   "metadata": {},
   "outputs": [],
   "source": [
    "print(classification_report(y_test, y_pred_dt))"
   ]
  },
  {
   "cell_type": "code",
   "execution_count": null,
   "id": "ab2b710f",
   "metadata": {},
   "outputs": [],
   "source": [
    "# training accuracy\n",
    "\n",
    "y_train_acc_dt = model_dt.predict(x_train_sm)\n",
    "accuracy_score(y_train_sm, y_train_acc_dt)"
   ]
  },
  {
   "cell_type": "markdown",
   "id": "9988a00f",
   "metadata": {},
   "source": [
    "### Hyperparameter tuning:"
   ]
  },
  {
   "cell_type": "code",
   "execution_count": null,
   "id": "2b1964cb",
   "metadata": {},
   "outputs": [],
   "source": [
    "# so hyperparameter tuning is done and and the best parameters has to be found out.\n",
    "\n",
    "from sklearn.model_selection import GridSearchCV\n",
    "\n",
    "params= {\n",
    "    'criterion': ('gini', 'entropy'),\n",
    "    'max_depth': list(range(1,20)), \n",
    "    'min_samples_split': [2,3,4],\n",
    "    'min_samples_leaf': list(range(1,20))\n",
    "}\n",
    "model = DecisionTreeClassifier(random_state = 3)\n",
    "model_for_cv = GridSearchCV(model, params, scoring= 'f1', verbose = 1, n_jobs = -1, cv=3)\n",
    "\n",
    "model_for_cv.fit(x_train_sm, y_train_sm)\n",
    "\n",
    "best_params_= model_for_cv.best_params_\n",
    "print(f'Best parameters: {best_params_}')"
   ]
  },
  {
   "cell_type": "markdown",
   "id": "cc890e2c",
   "metadata": {},
   "source": [
    "#### Applying the best parameters to the model after hyperparameter tuning: "
   ]
  },
  {
   "cell_type": "code",
   "execution_count": null,
   "id": "49717ab2",
   "metadata": {},
   "outputs": [],
   "source": [
    "model_dt1 = DecisionTreeClassifier(criterion='gini', max_depth =10, min_samples_leaf =2, min_samples_split = 2)\n",
    "\n",
    "model_dt1.fit(x_train_sm, y_train_sm)"
   ]
  },
  {
   "cell_type": "code",
   "execution_count": null,
   "id": "94f7222d",
   "metadata": {},
   "outputs": [],
   "source": [
    "# prediction\n",
    "\n",
    "y_pred_dt1 = model_dt1.predict(x_test)\n"
   ]
  },
  {
   "cell_type": "code",
   "execution_count": null,
   "id": "dd29114f",
   "metadata": {},
   "outputs": [],
   "source": [
    "# evaluation\n",
    "\n",
    "accuracy_score(y_pred_dt1, y_test)"
   ]
  },
  {
   "cell_type": "code",
   "execution_count": null,
   "id": "e105da95",
   "metadata": {},
   "outputs": [],
   "source": [
    "confusion_matrix(y_pred_dt1, y_test)"
   ]
  },
  {
   "cell_type": "code",
   "execution_count": null,
   "id": "8de4a5a2",
   "metadata": {},
   "outputs": [],
   "source": [
    "print(classification_report(y_pred_dt1, y_test))"
   ]
  },
  {
   "cell_type": "code",
   "execution_count": null,
   "id": "01f51382",
   "metadata": {},
   "outputs": [],
   "source": [
    "# training accuracy\n",
    "\n",
    "y_train_acc_dt1 = model_dt1.predict(x_train_sm)\n",
    "accuracy_score(y_train_acc_dt1, y_train_sm)"
   ]
  },
  {
   "cell_type": "code",
   "execution_count": null,
   "id": "d95a0685",
   "metadata": {},
   "outputs": [],
   "source": [
    "# training accuracy is slightly reduced after hyperparameter tuning."
   ]
  },
  {
   "cell_type": "code",
   "execution_count": 97,
   "id": "87a59c3c",
   "metadata": {},
   "outputs": [
    {
     "ename": "NameError",
     "evalue": "name 'tree' is not defined",
     "output_type": "error",
     "traceback": [
      "\u001b[1;31m---------------------------------------------------------------------------\u001b[0m",
      "\u001b[1;31mNameError\u001b[0m                                 Traceback (most recent call last)",
      "Cell \u001b[1;32mIn[97], line 2\u001b[0m\n\u001b[0;32m      1\u001b[0m plt\u001b[38;5;241m.\u001b[39mfigure(figsize\u001b[38;5;241m=\u001b[39m(\u001b[38;5;241m12\u001b[39m, \u001b[38;5;241m12\u001b[39m))\n\u001b[1;32m----> 2\u001b[0m tree\u001b[38;5;241m.\u001b[39mplot_tree(model_dt)\n\u001b[0;32m      3\u001b[0m plt\u001b[38;5;241m.\u001b[39mshow()\n",
      "\u001b[1;31mNameError\u001b[0m: name 'tree' is not defined"
     ]
    },
    {
     "data": {
      "text/plain": [
       "<Figure size 1200x1200 with 0 Axes>"
      ]
     },
     "metadata": {},
     "output_type": "display_data"
    }
   ],
   "source": [
    "plt.figure(figsize=(12, 12))\n",
    "tree.plot_tree(model_dt)\n",
    "plt.show()"
   ]
  },
  {
   "cell_type": "code",
   "execution_count": null,
   "id": "98b7f832",
   "metadata": {},
   "outputs": [],
   "source": []
  }
 ],
 "metadata": {
  "kernelspec": {
   "display_name": "Python 3 (ipykernel)",
   "language": "python",
   "name": "python3"
  },
  "language_info": {
   "codemirror_mode": {
    "name": "ipython",
    "version": 3
   },
   "file_extension": ".py",
   "mimetype": "text/x-python",
   "name": "python",
   "nbconvert_exporter": "python",
   "pygments_lexer": "ipython3",
   "version": "3.11.4"
  }
 },
 "nbformat": 4,
 "nbformat_minor": 5
}
